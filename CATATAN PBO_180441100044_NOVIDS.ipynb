{
 "cells": [
  {
   "cell_type": "markdown",
   "metadata": {},
   "source": [
    "# CLASS VS OBJECT\n",
    "\n",
    "__A.Class__\n",
    "\n",
    "__Class__ adalah sebuah tempat yang digunakan untuk membangun sebuah objek yang mendefinisikan beberapa atribut sesuai objek. _Method_ sendiri adalah data dari properti yang ada dan method melalukan pengolahan dan juga menampilkan atribut. Constructor adalah method yang memberikan nilai awal pada saat objek dibuatdan constructor menggunakan method bawaan Python yang bernama init yg khusus untuk inisialisasi pembuatan objek dari kelas tsb.\n",
    "\n",
    "__B.Object__\n",
    "\n",
    "Class sendiri template dari code sedangkan __Object__ adalah instance dari class atau object akan terciptakan dari Class. Objek terdiri dari kedua anggota data (variabel kelas dan variabel contoh) dan method. Mengakses method objek menggunakan operator titik (.) dan setiap method harus memiliki parameter __self__ yang artinya method tsb dimiliki dan terdaftar ke _class_."
   ]
  },
  {
   "cell_type": "code",
   "execution_count": 2,
   "metadata": {},
   "outputs": [
    {
     "name": "stdout",
     "output_type": "stream",
     "text": [
      "Nama Mahasiswa : Novi Duwi Saputri\n",
      "NIM : 180441100044\n",
      "IPK : 3.5\n"
     ]
    }
   ],
   "source": [
    "class mhs:\n",
    "    def __init__(self,nama,nim,ips1,ips2,ips3):\n",
    "        self.nama=nama\n",
    "        self.nim=nim\n",
    "        self.ips1=ips1\n",
    "        self.ips2=ips2\n",
    "        self.ips3=ips3\n",
    "    def tampilkan(self):\n",
    "        print(\"Nama Mahasiswa :\",self.nama)\n",
    "        print(\"NIM :\",self.nim)\n",
    "        print(\"IPK :\",(self.ips1+self.ips2+self.ips3)/3)\n",
    "        \n",
    "mhs=mhs(\"Novi Duwi Saputri\",\"180441100044\",3.4,3.5,3.6)\n",
    "mhs.tampilkan()"
   ]
  },
  {
   "cell_type": "markdown",
   "metadata": {},
   "source": [
    "# INHERITANCE\n",
    "\n",
    "\n",
    "__Inheritance__ (Pewarisan / Turunan) yaitu sebuah proses dimana sebuah class dapat mengakses semua properti dan semua method yang terdapat dari class lainnya. Class yang diwarisi kelas yang lain disebut juga subclass, sedangkan class yang mewarisi disebut superclass. Salah satu keuntungan dari inheritance adalah Subclass dari merubah atau memodifikasi apa yang telah diwariskan oleh Superclass."
   ]
  },
  {
   "cell_type": "code",
   "execution_count": 3,
   "metadata": {},
   "outputs": [
    {
     "name": "stdout",
     "output_type": "stream",
     "text": [
      "=====Data Mahasiswa=====\n",
      "Nama Mahasiswa  : Novi Duwi Saputri\n",
      "NIM             : 180441100044\n",
      "------------------\n",
      "=====Data Dosen=====\n",
      "Nama Dosen : Ayuningtyas\n",
      "NIP        : 1880\n",
      "NIDN       : 5678\n",
      "------------------\n",
      "=====Data Karyawan=====\n",
      "Nama Karyawan : Suharto\n",
      "NIP           : 5667\n"
     ]
    }
   ],
   "source": [
    "#INHERITANCE\n",
    "class orang:\n",
    "    def __init__(self,nama):\n",
    "        self.nama=nama\n",
    "class mhs(orang):\n",
    "    def __init__(self,nama,nim):\n",
    "        super().__init__(nama)\n",
    "        self.nim=nim\n",
    "    def tampil(self):\n",
    "        print(\"=====Data Mahasiswa=====\")\n",
    "        print(\"Nama Mahasiswa  :\",self.nama)\n",
    "        print(\"NIM             :\",self.nim)\n",
    "class pegawai(orang):\n",
    "     def __init__(self,nama,nip):\n",
    "        super().__init__(nama)\n",
    "        self.nip=nip\n",
    "class dosen(pegawai):\n",
    "    def __init__(self,nama,nip,nidn):\n",
    "        super().__init__(nama,nip)\n",
    "        self.nidn=nidn\n",
    "    def tampil(self):\n",
    "        print(\"=====Data Dosen=====\")\n",
    "        print(\"Nama Dosen :\",self.nama)\n",
    "        print(\"NIP        :\",self.nip)\n",
    "        print(\"NIDN       :\",self.nidn)\n",
    "class karyawan(pegawai):\n",
    "    def __init__(self,nama,nip):\n",
    "        super().__init__(nama,nip)\n",
    "    def tampil(self):\n",
    "        print(\"=====Data Karyawan=====\")\n",
    "        print(\"Nama Karyawan :\",self.nama)\n",
    "        print(\"NIP           :\",self.nip)\n",
    "\n",
    "o=orang\n",
    "o1=mhs(\"Novi Duwi Saputri\",\"180441100044\")\n",
    "o1.tampil()\n",
    "print(\"------------------\")\n",
    "o2=pegawai\n",
    "o3=dosen(\"Ayuningtyas\",\"1880\",\"5678\")\n",
    "o3.tampil()\n",
    "print(\"------------------\")\n",
    "o4=karyawan(\"Suharto\",\"5667\")\n",
    "o4.tampil()"
   ]
  },
  {
   "cell_type": "markdown",
   "metadata": {},
   "source": [
    "# TYPE OF INHERITANCE\n",
    "\n",
    "__1.Default__\n",
    "\n",
    "__Default__ tipe inheritance yang property,property dan method di dalam kelas induk sama persis dengan _subclass_ (kelas anak) yang menggunakan (__pass__)"
   ]
  },
  {
   "cell_type": "code",
   "execution_count": 4,
   "metadata": {},
   "outputs": [
    {
     "name": "stdout",
     "output_type": "stream",
     "text": [
      "Nama Hewan : Singa\n",
      "Jenis Makanan : Daging\n",
      "==================\n",
      "Nama Hewan : Hiu\n",
      "Jenis Makanan : Ikan Kecil\n"
     ]
    }
   ],
   "source": [
    "#Default\n",
    "class hewan:\n",
    "    def __init__(self,nama,jenis_mkn):\n",
    "        self.nama=nama\n",
    "        self.jenis_mkn=jenis_mkn\n",
    "    def show(self):\n",
    "        print(\"Nama Hewan :\",self.nama)\n",
    "        print(\"Jenis Makanan :\",self.jenis_mkn)\n",
    "class ikan(hewan):\n",
    "    pass\n",
    "h=hewan(\"Singa\",\"Daging\")\n",
    "h1=ikan(\"Hiu\",\"Ikan Kecil\")\n",
    "h.show()\n",
    "print(\"==================\")\n",
    "h1.show()"
   ]
  },
  {
   "cell_type": "markdown",
   "metadata": {},
   "source": [
    "__2.Overidding__\n",
    "\n",
    "__Overidding__ tipe inheritance yang kelas anak dapat memodifikasi salah satu method/properti dalam kelas induk tetapi kelas anak harus punya nama yg sama, tanda, dan parameter yang ada pada kelas induknya."
   ]
  },
  {
   "cell_type": "code",
   "execution_count": 5,
   "metadata": {},
   "outputs": [
    {
     "name": "stdout",
     "output_type": "stream",
     "text": [
      "Model Baju : Hoodie\n",
      "Ukuran : XL\n",
      "==============\n",
      "Model Baju : Polo\n",
      "Ukuran : XXL\n",
      "Harga : Rp.325.000\n"
     ]
    }
   ],
   "source": [
    "#Overidding\n",
    "class baju:\n",
    "    def __init__(self,model,ukuran):\n",
    "        self.model=model\n",
    "        self.ukuran=ukuran\n",
    "    def show(self):\n",
    "        print(\"Model Baju :\",self.model)\n",
    "        print(\"Ukuran :\",self.ukuran)\n",
    "class harga(baju):\n",
    "    def __init__(self,model,ukuran,harga):\n",
    "        self.model=model\n",
    "        self.ukuran=ukuran\n",
    "        self.harga=harga\n",
    "    def show(self):\n",
    "        print(\"Model Baju :\",self.model)\n",
    "        print(\"Ukuran :\",self.ukuran)\n",
    "        print(\"Harga :\",self.harga)\n",
    "b=baju(\"Hoodie\",\"XL\")\n",
    "b.show()\n",
    "print(\"==============\")\n",
    "h=harga(\"Polo\",\"XXL\",\"Rp.325.000\")\n",
    "h.show()"
   ]
  },
  {
   "cell_type": "markdown",
   "metadata": {},
   "source": [
    "__3.Super__\n",
    "\n",
    "__Super__ tipe inheritance dimana kelas anak dapat menggambil method yang sama pada kelas induk dan ini tipe inheritance yang unik dan menggunakan _super().__init__(self)_ untuk menggambil method pada kelas induk."
   ]
  },
  {
   "cell_type": "code",
   "execution_count": 38,
   "metadata": {},
   "outputs": [
    {
     "name": "stdout",
     "output_type": "stream",
     "text": [
      "Jari jari Lingkaran : 6\n",
      "Luas Lingkaran =113.04\n",
      "===============\n",
      "Tinggi Tabung : 12\n",
      "Jari Jari : 5\n",
      "Luas Permukaan Tabung=533.80 cm\n"
     ]
    }
   ],
   "source": [
    "#Super\n",
    "class lingkaran:\n",
    "    def __init__(self,r):\n",
    "        self.r=r\n",
    "    def jari(self):\n",
    "        print(\"Jari jari Lingkaran :\",self.r)\n",
    "    def luaslingkaran(self):\n",
    "        print(\"Luas Lingkaran =%.2f\"%(3.14*(self.r**2)))\n",
    "class Tabung(lingkaran):\n",
    "    def __init__(self,t,r):\n",
    "        self.t=t\n",
    "        super().__init__(r)\n",
    "    def tampil(self):\n",
    "        print(\"Tinggi Tabung :\",self.t)\n",
    "        print(\"Jari Jari :\",self.r)\n",
    "    def luaspt(self):\n",
    "        print(\"Luas Permukaan Tabung=%.2f\"%(2*3.14*self.r*(self.r+self.t)),\"cm\")\n",
    "\n",
    "lp=lingkaran(6)\n",
    "lp.jari()\n",
    "lp.luaslingkaran()\n",
    "print(\"===============\")\n",
    "lp1=Tabung(12,5)\n",
    "lp1.tampil()\n",
    "lp1.luaspt()"
   ]
  },
  {
   "cell_type": "markdown",
   "metadata": {},
   "source": [
    "__4.Multiple__\n",
    "\n",
    "__Multiple__ tipe inheritance yang berasal dari dua kelas diatasnya yang di gabung menjadi satu dan multiple akan membuat kelas baru untuk menampung gabungan dua kelas tersebut."
   ]
  },
  {
   "cell_type": "code",
   "execution_count": 39,
   "metadata": {},
   "outputs": [
    {
     "name": "stdout",
     "output_type": "stream",
     "text": [
      "Nama Kuda : Unicorn\n",
      "jenis rambut : Putih\n",
      "=====================\n",
      "Nama Keledai : Loli\n",
      "Berat Badan Keledai : 189\n"
     ]
    }
   ],
   "source": [
    "#Multiple\n",
    "class kuda:\n",
    "    def __init__(self,nama,jenis_rambut):\n",
    "        self.nama=nama\n",
    "        self.jenis_rambut=jenis_rambut\n",
    "    def tampilkankuda(self):\n",
    "        print(\"Nama Kuda :\",self.nama)\n",
    "        print(\"jenis rambut :\",self.jenis_rambut)\n",
    "class keledai:\n",
    "    def __init__(self,nama,berat_badan):\n",
    "        self.nama=nama\n",
    "        self.berat_badan=berat_badan\n",
    "    def tampilkankeledai(self):\n",
    "        print(\"Nama Keledai :\",self.nama)\n",
    "        print(\"Berat Badan Keledai :\",self.berat_badan)\n",
    "class mule(kuda,keledai):\n",
    "    def __init__(self):\n",
    "        kuda.__init__(self)\n",
    "        keledai.__init__(self)\n",
    "        \n",
    "kuda=kuda(\"Unicorn\",\"Putih\")\n",
    "kuda.tampilkankuda()\n",
    "print(\"=====================\")\n",
    "keledai=keledai(\"Loli\",\"189\")\n",
    "keledai.tampilkankeledai()"
   ]
  },
  {
   "cell_type": "markdown",
   "metadata": {},
   "source": [
    "# POLYMORPHISME\n",
    "\n",
    "__Polymorphisme__ (Banyak Bentuk) merupakan salah satu sifat class yang memungkinkan sebuah method mempunyai nama yang sama, namun memiliki aksi yang berbeda."
   ]
  },
  {
   "cell_type": "code",
   "execution_count": 40,
   "metadata": {},
   "outputs": [
    {
     "name": "stdout",
     "output_type": "stream",
     "text": [
      "Bunga Matahari berwarna Kuning\n",
      "Pohon Apel itu berbuah sekarang\n"
     ]
    }
   ],
   "source": [
    "#polymorphisme\n",
    "class bunga:\n",
    "    def matahari(self):\n",
    "        print(\"Bunga Matahari berwarna Kuning\")\n",
    "\n",
    "class buah:\n",
    "    def apel(self):\n",
    "        print(\"Pohon Apel itu berbuah sekarang\")\n",
    "\n",
    "obj=bunga()\n",
    "obj.matahari()\n",
    "obj1=buah()\n",
    "obj1.apel()"
   ]
  },
  {
   "cell_type": "markdown",
   "metadata": {},
   "source": [
    "__1.Polymorphisme with a Function__\n",
    "\n",
    "Polymorphisme ini memanggilnya menggunakan fungsi(function) _def_"
   ]
  },
  {
   "cell_type": "code",
   "execution_count": 41,
   "metadata": {},
   "outputs": [
    {
     "name": "stdout",
     "output_type": "stream",
     "text": [
      "Bunga Matahari berwarna Kuning\n",
      "Pohon Apel itu berbuah sekarang\n"
     ]
    }
   ],
   "source": [
    "#polymorphisme with a function\n",
    "class bunga:\n",
    "    def deskripsi(self):\n",
    "        print(\"Bunga Matahari berwarna Kuning\")\n",
    "\n",
    "class buah:\n",
    "    def deskripsi(self):\n",
    "        print(\"Pohon Apel itu berbuah sekarang\")\n",
    "\n",
    "def garden(bunga):\n",
    "    bunga.deskripsi()\n",
    "obj=bunga()\n",
    "obj1=buah()\n",
    "garden(obj)\n",
    "garden(obj1)"
   ]
  },
  {
   "cell_type": "markdown",
   "metadata": {},
   "source": [
    "__2.Polymorphisme with a Method__\n",
    "\n",
    "Polymorphisme cara manggilnya menggunakan method"
   ]
  },
  {
   "cell_type": "code",
   "execution_count": 42,
   "metadata": {},
   "outputs": [
    {
     "name": "stdout",
     "output_type": "stream",
     "text": [
      "Bunga Matahari berwarna Kuning\n",
      "Pohon Apel itu berbuah sekarang\n",
      "Bunga Matahari berwarna Kuning\n",
      "Pohon Apel itu berbuah sekarang\n"
     ]
    }
   ],
   "source": [
    "#polymorphisme with a method\n",
    "class bunga:\n",
    "    def deskripsi(self):\n",
    "        print(\"Bunga Matahari berwarna Kuning\")\n",
    "\n",
    "class buah:\n",
    "    def deskripsi(self):\n",
    "        print(\"Pohon Apel itu berbuah sekarang\")\n",
    "bunga=bunga()\n",
    "bunga.deskripsi()\n",
    "buah=buah()\n",
    "buah.deskripsi()\n",
    "for garden in(bunga,buah):\n",
    "    garden.deskripsi()"
   ]
  }
 ],
 "metadata": {
  "kernelspec": {
   "display_name": "Python 3",
   "language": "python",
   "name": "python3"
  }
 },
 "nbformat": 4,
 "nbformat_minor": 2
}
