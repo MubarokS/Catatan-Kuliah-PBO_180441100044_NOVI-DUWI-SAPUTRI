{
 "cells": [
  {
   "attachments": {},
   "cell_type": "markdown",
   "metadata": {},
   "source": [
    " # CLASS VS OBJECT\n",
    "\n",
    "__A.Class__\n",
    "\n",
    "__Class__ adalah sebuah tempat yang digunakan untuk membangun sebuah objek yang mendefinisikan beberapa atribut sesuai objek. _Method_ sendiri adalah data dari properti yang ada dan method melalukan pengolahan dan juga menampilkan atribut. Constructor adalah method yang memberikan nilai awal pada saat objek dibuatdan constructor menggunakan method bawaan Python yang bernama init yg khusus untuk inisialisasi pembuatan objek dari kelas tsb.\n",
    "\n",
    "__B.Object__\n",
    "\n",
    "Class sendiri template dari code sedangkan __Object__ adalah instance dari class atau object akan terciptakan dari Class. Objek terdiri dari kedua anggota data (variabel kelas dan variabel contoh) dan method. Mengakses method objek menggunakan operator titik (.) dan setiap method harus memiliki parameter __self__ yang artinya method tsb dimiliki dan terdaftar ke _class_.\n",
    "![](/IMG/class.jpg)\n",
    "\n",
    "![](/IMG/class01.png)"
   ]
  },
  {
   "attachments": {},
   "cell_type": "markdown",
   "metadata": {},
   "source": [
    "# INHERITANCE\n",
    "\n",
    "__A.Inheritance__\n",
    "\n",
    "Inheritance (Pewarisan / Turunan) yaitu sebuah proses dimana sebuah class dapat mengakses semua properti dan semua method yang terdapat dari class lainnya. Class yang diwarisi kelas yang lain disebut juga subclass, sedangkan class yang mewarisi disebut superclass. Salah satu keuntungan dari inheritance adalah Subclass dari merubah atau memodifikasi apa yang telah diwariskan oleh Superclass.\n",
    "\n",
    "![](/IMG/inheritance%20-%20pewarisan%20kelas%20java.png)\n",
    "\n",
    "![](/IMG/1.png)"
   ]
  },
  {
   "attachments": {},
   "cell_type": "markdown",
   "metadata": {},
   "source": [
    "# TYPE OF INHERITANCE\n",
    "![](/IMG/type%20inheritance.png)\n",
    "__1.Default__\n",
    "\n",
    "__Default__ tipe inheritance yang property,property dan method di dalam kelas induk sama persis dengan _subclass_ (kelas anak) yang menggunakan (__pass__)\n",
    "![](/IMG/default.png)\n",
    "\n",
    "__2.Overidding__\n",
    "\n",
    "__Overidding__ tipe inheritance yang kelas anak dapat memodifikasi salah satu method/properti dalam kelas induk tetapi kelas anak harus punya nama yg sama, tanda, dan parameter yang ada pada kelas induknya.\n",
    "![](/IMG/overidding.png)\n",
    "\n",
    "__3.Super__\n",
    "\n",
    "__Super__ tipe inheritance dimana kelas anak dapat menggambil method yang sama pada kelas induk dan ini tipe inheritance yang unik dan menggunakan _super().__init__(self)_ untuk menggambil method pada kelas induk.\n",
    "![](/IMG/super.png)\n",
    "\n",
    "__4.Multiple__\n",
    "\n",
    "__Multiple__ tipe inheritance yang berasal dari dua kelas diatasnya yang di gabung menjadi satu dan multiple akan membuat kelas baru untuk menampung gabungan dua kelas tersebut.\n",
    "![](/IMG/multiple.png)"
   ]
  },
  {
   "attachments": {},
   "cell_type": "markdown",
   "metadata": {},
   "source": [
    "# POLYMORPHISME\n",
    "\n",
    "__Polymorphisme__ (Banyak Bentuk) merupakan salah satu sifat class yang memungkinkan sebuah method mempunyai nama yang sama, namun memiliki aksi yang berbeda.\n",
    "![](/IMG/polymorphisme.png)\n",
    "\n",
    "__1.Polymorphisme with a Function__\n",
    "\n",
    "Polymorphisme ini memanggilnya menggunakan fungsi(function) _def_\n",
    "![](/IMG/function.png)\n",
    "\n",
    "__2.Polymorphisme with a Method__\n",
    "\n",
    "Polymorphisme cara manggilnya menggunakan method\n",
    "![](/IMG/method.png)"
   ]
  },
  {
   "cell_type": "code",
   "execution_count": null,
   "metadata": {},
   "outputs": [],
   "source": []
  }
 ],
 "metadata": {
  "kernelspec": {
   "display_name": "Python 3",
   "language": "python",
   "name": "python3"
  },
  "language_info": {
   "codemirror_mode": {
    "name": "ipython",
    "version": 3
   },
   "file_extension": ".py",
   "mimetype": "text/x-python",
   "name": "python",
   "nbconvert_exporter": "python",
   "pygments_lexer": "ipython3",
   "version": "3.7.1"
  }
 },
 "nbformat": 4,
 "nbformat_minor": 2
}
